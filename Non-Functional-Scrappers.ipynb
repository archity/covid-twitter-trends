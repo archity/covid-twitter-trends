{
 "cells": [
  {
   "cell_type": "code",
   "execution_count": null,
   "outputs": [],
   "source": [
    "from twitterscraper import query_tweets\n",
    "import datetime as dt\n",
    "import pandas as pd\n",
    "\n",
    "begin_date = dt.date(2020, 1, 1)\n",
    "end_date = dt.date(2020, 10, 31)\n",
    "\n",
    "limit = 10000\n",
    "language = \"english\"\n",
    "\n",
    "tweets = query_tweets(\"covid\", begindate=begin_date, enddate=end_date, limit=limit, lang=language)\n",
    "tweets\n",
    "\n",
    "# twitterscraper DOES NOT WORK\n",
    "# Gives an error of - AttributeError: 'IMapUnorderedIterator' object has no attribute '_write_to'\n",
    "# This issue was opened on GitHub and is unresolved."
   ],
   "metadata": {
    "collapsed": false,
    "pycharm": {
     "name": "#%%\n"
    }
   }
  },
  {
   "cell_type": "code",
   "execution_count": null,
   "outputs": [],
   "source": [
    "import tweepy\n",
    "import pandas as pd\n",
    "\n",
    "consumer_key = 'KpNlowpXetv4I8GwNxztcDdVa'\n",
    "consumer_secret = '1B9RlLBtEgcRgWHphtpW0rCFsKb6meNPslM9V4SSR5VBHwEyMI'\n",
    "\n",
    "# bearer_token = AAAAAAAAAAAAAAAAAAAAAOpFJQEAAAAA829ihIZAkBB3d7cFezpKhPwHVtc%3D20YThzuVpjCOrn2P47SkJ0KgZfnG1RkCNWmLRxAGLaHPgWHqef\n",
    "\n",
    "auth = tweepy.AppAuthHandler(consumer_key, consumer_secret)\n",
    "api = tweepy.API(auth)\n",
    "\n",
    "text_query = 'covid'\n",
    "tweet_count = 1000\n",
    "language = \"en\"\n",
    "\n",
    "tweets = []\n",
    "\n",
    "all_tweets = tweepy.Cursor(api.search, q=text_query, lang=language).items(tweet_count)\n",
    "\n",
    "for tweet in all_tweets:\n",
    "    tweets_list = [tweet.created_at, tweet.id, tweet.text, tweet.retweet_count]\n",
    "    tweetData = tuple(tweets_list)\n",
    "    tweets.append(tweetData)\n",
    "\n",
    "# Creating Pandas dataframe for the collected tweets\n",
    "tweets_df = pd.DataFrame(tweets, columns=['Datetime', 'Tweet Id', 'Text', 'Retweets'])\n",
    "print(tweets_df)\n",
    "\n",
    "tweets_df.to_csv('{}-tweets.csv'.format(text_query), sep=',', index = False)\n",
    "\n",
    "# Tweepy WORKS, but cannot access tweets older than 7 days."
   ],
   "metadata": {
    "collapsed": false,
    "pycharm": {
     "name": "#%%\n"
    }
   }
  },
  {
   "cell_type": "code",
   "execution_count": null,
   "outputs": [],
   "source": [
    "import GetOldTweets3 as got\n",
    "import pandas as pd\n",
    "\n",
    "#username = \"\"\n",
    "text_query = \"covid\"\n",
    "since_date = \"2020-01-01\"\n",
    "until_date = \"2020-10-31\"\n",
    "count = 1000\n",
    " \n",
    "# Creation of tweetCriteria query object with methods to specify further\n",
    "tweetCriteria = got.manager.TweetCriteria()\\\n",
    ".setQuerySearch(text_query).setSince(since_date)\\\n",
    ".setUntil(until_date).setMaxTweets(count)\n",
    " \n",
    "# Creation of tweets iterable containing all queried tweet data\n",
    "tweets = got.manager.TweetManager.getTweets(tweetCriteria)\n",
    " \n",
    "# List comprehension pulling chosen tweet information from tweets\n",
    "tweets_list = [[tweet.id, tweet.author_id, tweet.username, tweet.text, tweet.retweets, tweet.favorites,tweet.replies,tweet.date] for tweet in tweets]\n",
    " \n",
    "# Creation of dataframe from tweets list\n",
    "tweets_df = pd.DataFrame(tweets_list, columns = ['Tweet Id', 'Tweet User Id', 'Tweet User', 'Text','Retweets', 'Favorites', \n",
    "                                                 'Replies', 'Datetime'])\n",
    "tweets_df\n",
    "tweets_df.to_csv('{}-tweets.csv'.format(text_query), sep=',', index = False)\n",
    "\n"
   ],
   "metadata": {
    "collapsed": false,
    "pycharm": {
     "name": "#%%\n"
    }
   }
  }
 ],
 "metadata": {
  "kernelspec": {
   "display_name": "Python 3",
   "language": "python",
   "name": "python3"
  },
  "language_info": {
   "codemirror_mode": {
    "name": "ipython",
    "version": 2
   },
   "file_extension": ".py",
   "mimetype": "text/x-python",
   "name": "python",
   "nbconvert_exporter": "python",
   "pygments_lexer": "ipython2",
   "version": "2.7.6"
  },
  "pycharm": {
   "stem_cell": {
    "cell_type": "raw",
    "source": [
     "\n"
    ],
    "metadata": {
     "collapsed": false
    }
   }
  }
 },
 "nbformat": 4,
 "nbformat_minor": 0
}