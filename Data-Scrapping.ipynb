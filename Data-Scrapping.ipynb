{
 "cells": [
  {
   "cell_type": "markdown",
   "source": [
    "# `scscrape` + `tweepy` approach\n",
    "Using an alternative, indriect approach. Since Tweepy does not allow tweets older than 7 days, but can still return older results based on URLs. So we will use `snscrape` to get URLs of relevant tweent, and then feed these URLs to `tweepy`.\n"
   ],
   "metadata": {
    "collapsed": false,
    "pycharm": {
     "name": "#%% md\n"
    }
   }
  },
  {
   "cell_type": "code",
   "execution_count": 33,
   "outputs": [
    {
     "data": {
      "text/plain": "                                               links\n0  https://twitter.com/BastardTaitum/status/12125...\n1  https://twitter.com/BastardTaitum/status/12125...\n2  https://twitter.com/BastardTaitum/status/12124...\n3  https://twitter.com/BastardTaitum/status/12124...\n4  https://twitter.com/captmakret/status/12124955...",
      "text/html": "<div>\n<style scoped>\n    .dataframe tbody tr th:only-of-type {\n        vertical-align: middle;\n    }\n\n    .dataframe tbody tr th {\n        vertical-align: top;\n    }\n\n    .dataframe thead th {\n        text-align: right;\n    }\n</style>\n<table border=\"1\" class=\"dataframe\">\n  <thead>\n    <tr style=\"text-align: right;\">\n      <th></th>\n      <th>links</th>\n    </tr>\n  </thead>\n  <tbody>\n    <tr>\n      <th>0</th>\n      <td>https://twitter.com/BastardTaitum/status/12125...</td>\n    </tr>\n    <tr>\n      <th>1</th>\n      <td>https://twitter.com/BastardTaitum/status/12125...</td>\n    </tr>\n    <tr>\n      <th>2</th>\n      <td>https://twitter.com/BastardTaitum/status/12124...</td>\n    </tr>\n    <tr>\n      <th>3</th>\n      <td>https://twitter.com/BastardTaitum/status/12124...</td>\n    </tr>\n    <tr>\n      <th>4</th>\n      <td>https://twitter.com/captmakret/status/12124955...</td>\n    </tr>\n  </tbody>\n</table>\n</div>"
     },
     "metadata": {},
     "output_type": "execute_result",
     "execution_count": 33
    }
   ],
   "source": [
    "import tweepy\n",
    "import pandas as pd\n",
    "\n",
    "consumer_key = 'KpNlowpXetv4I8GwNxztcDdVa'\n",
    "consumer_secret = '1B9RlLBtEgcRgWHphtpW0rCFsKb6meNPslM9V4SSR5VBHwEyMI'\n",
    "\n",
    "auth = tweepy.AppAuthHandler(consumer_key, consumer_secret)\n",
    "api = tweepy.API(auth, wait_on_rate_limit=True)\n",
    "\n",
    "# Read the links to Twitter posts, obtained by snscrape \n",
    "links = pd.read_csv(\"data/snscrape-twitter-covid-Jan.txt\", index_col= None, header = None, names = [\"links\"])\n",
    "links.head()"
   ],
   "metadata": {
    "collapsed": false,
    "pycharm": {
     "name": "#%%\n",
     "is_executing": false
    }
   }
  },
  {
   "cell_type": "code",
   "execution_count": 34,
   "outputs": [
    {
     "name": "stdout",
     "text": [
      "                                                  links                   id\n",
      "0     https://twitter.com/BastardTaitum/status/12125...  1212510149170147328\n",
      "1     https://twitter.com/BastardTaitum/status/12125...  1212509240830709761\n",
      "2     https://twitter.com/BastardTaitum/status/12124...  1212499266968674304\n",
      "3     https://twitter.com/BastardTaitum/status/12124...  1212499041625477122\n",
      "4     https://twitter.com/captmakret/status/12124955...  1212495528791031810\n",
      "...                                                 ...                  ...\n",
      "4860  https://twitter.com/COVID_Careful/status/12226...  1222682396773904384\n",
      "4861  https://twitter.com/COVID_Careful/status/12226...  1222682253852999680\n",
      "4862  https://twitter.com/COVID_19Disease/status/122...  1222680220286799873\n",
      "4863  https://twitter.com/COVID_JAX/status/122267653...  1222676535422877698\n",
      "4864  https://twitter.com/___Covid_19___/status/1222...  1222674452875481091\n",
      "\n",
      "[4865 rows x 2 columns]\n"
     ],
     "output_type": "stream"
    }
   ],
   "source": [
    "# Define a small one-liner function lamda which takes in x\n",
    "# (which we pass onto the function) and splits all the entries\n",
    "# under the heading \"links\" from the last, until the first '/'\n",
    "trim = lambda x: x[\"links\"].split(\"/\")[-1]\n",
    "\n",
    "# Apply the trimming horizontally (to every row of links)\n",
    "links['id'] = links.apply(trim, axis=1)\n",
    "print(links)"
   ],
   "metadata": {
    "collapsed": false,
    "pycharm": {
     "name": "#%%\n",
     "is_executing": false
    }
   }
  },
  {
   "cell_type": "code",
   "execution_count": 35,
   "outputs": [
    {
     "name": "stdout",
     "text": [
      "49 chunks, each consisting 100 URLs\n"
     ],
     "output_type": "stream"
    }
   ],
   "source": [
    "# Divide into chunks of 100\n",
    "chunk_size = 100\n",
    "ids = links['id'].tolist()\n",
    "total_count = len(ids)\n",
    "chunks = (total_count // chunk_size) + 1\n",
    "print(chunks, \"chunks, each consisting 100 URLs\")"
   ],
   "metadata": {
    "collapsed": false,
    "pycharm": {
     "name": "#%%\n",
     "is_executing": false
    }
   }
  },
  {
   "cell_type": "code",
   "execution_count": 37,
   "outputs": [
    {
     "name": "stdout",
     "text": [
      "Chunk  0  done\n",
      "Chunk  1  done\n",
      "Chunk  2  done\n",
      "Chunk  3  done\n",
      "Chunk  4  done\n",
      "Chunk  5  done\n",
      "Chunk  6  done\n",
      "Chunk  7  done\n",
      "Chunk  8  done\n",
      "Chunk  9  done\n",
      "Chunk  10  done\n",
      "Chunk  11  done\n",
      "Chunk  12  done\n",
      "Chunk  13  done\n",
      "Chunk  14  done\n",
      "Chunk  15  done\n",
      "Chunk  16  done\n",
      "Chunk  17  done\n",
      "Chunk  18  done\n",
      "Chunk  19  done\n",
      "Chunk  20  done\n",
      "Chunk  21  done\n",
      "Chunk  22  done\n",
      "Chunk  23  done\n",
      "Chunk  24  done\n",
      "Chunk  25  done\n",
      "Chunk  26  done\n",
      "Chunk  27  done\n",
      "Chunk  28  done\n",
      "Chunk  29  done\n",
      "Chunk  30  done\n",
      "Chunk  31  done\n",
      "Chunk  32  done\n",
      "Chunk  33  done\n",
      "Chunk  34  done\n",
      "Chunk  35  done\n",
      "Chunk  36  done\n",
      "Chunk  37  done\n",
      "Chunk  38  done\n",
      "Chunk  39  done\n",
      "Chunk  40  done\n",
      "Chunk  41  done\n",
      "Chunk  42  done\n",
      "Chunk  43  done\n",
      "Chunk  44  done\n",
      "Chunk  45  done\n",
      "Chunk  46  done\n",
      "Chunk  47  done\n",
      "Chunk  48  done\n",
      "Scrapping finished\n"
     ],
     "output_type": "stream"
    }
   ],
   "source": [
    "def get_info(ids):\n",
    "    status_list = api.statuses_lookup(ids, tweet_mode= \"extended\")\n",
    "    empty_data = pd.DataFrame()\n",
    "    for status in status_list:\n",
    "            tweet_elem = {\"tweet_id\": status.id,\n",
    "                     \"screen_name\": status.user.screen_name,\n",
    "                     \"tweet\":status.full_text,\n",
    "                     \"date\":status.created_at,\n",
    "                     \"likes\":status.favorite_count,\n",
    "                     \"retweets\":status.retweet_count}\n",
    "            \n",
    "            empty_data = empty_data.append(tweet_elem, ignore_index = True)\n",
    "    empty_data.to_csv(\"data/JanTweets.csv\", mode=\"a\")\n",
    "    \n",
    "\n",
    "for i in range(chunks):\n",
    "    batch = ids[i*chunk_size : (i+1)*chunk_size]\n",
    "    result = get_info(batch)\n",
    "    print(\"Chunk \", i, \" done\")\n",
    "         \n",
    "print(\"Scrapping finished\")\n"
   ],
   "metadata": {
    "collapsed": false,
    "pycharm": {
     "name": "#%%\n",
     "is_executing": false
    }
   }
  },
  {
   "cell_type": "code",
   "execution_count": null,
   "outputs": [],
   "source": [
    "\n"
   ],
   "metadata": {
    "collapsed": false,
    "pycharm": {
     "name": "#%%\n"
    }
   }
  }
 ],
 "metadata": {
  "kernelspec": {
   "display_name": "Python 3",
   "language": "python",
   "name": "python3"
  },
  "language_info": {
   "codemirror_mode": {
    "name": "ipython",
    "version": 3
   },
   "file_extension": ".py",
   "mimetype": "text/x-python",
   "name": "python",
   "nbconvert_exporter": "python",
   "pygments_lexer": "ipython3",
   "version": "3.7.6"
  },
  "pycharm": {
   "stem_cell": {
    "cell_type": "raw",
    "source": [],
    "metadata": {
     "collapsed": false
    }
   }
  }
 },
 "nbformat": 4,
 "nbformat_minor": 1
}